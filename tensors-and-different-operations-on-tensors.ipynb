{
 "cells": [
  {
   "cell_type": "markdown",
   "metadata": {
    "id": "qFdPvlXBOdUN",
    "papermill": {
     "duration": 0.041089,
     "end_time": "2020-09-23T17:09:39.542495",
     "exception": false,
     "start_time": "2020-09-23T17:09:39.501406",
     "status": "completed"
    },
    "tags": []
   },
   "source": [
    "# Introduction to Tensors"
   ]
  },
  {
   "cell_type": "code",
   "execution_count": 1,
   "metadata": {
    "execution": {
     "iopub.execute_input": "2020-09-23T17:09:39.624757Z",
     "iopub.status.busy": "2020-09-23T17:09:39.624103Z",
     "iopub.status.idle": "2020-09-23T17:09:45.670982Z",
     "shell.execute_reply": "2020-09-23T17:09:45.670140Z"
    },
    "id": "AL2hzxorJiWy",
    "papermill": {
     "duration": 6.089847,
     "end_time": "2020-09-23T17:09:45.671115",
     "exception": false,
     "start_time": "2020-09-23T17:09:39.581268",
     "status": "completed"
    },
    "tags": []
   },
   "outputs": [],
   "source": [
    "import tensorflow as tf\n",
    "import numpy as np"
   ]
  },
  {
   "cell_type": "markdown",
   "metadata": {
    "id": "VQ3s2J8Vgowq",
    "papermill": {
     "duration": 0.040471,
     "end_time": "2020-09-23T17:09:45.752301",
     "exception": false,
     "start_time": "2020-09-23T17:09:45.711830",
     "status": "completed"
    },
    "tags": []
   },
   "source": [
    "Tensors are multi-dimensional arrays with a uniform type (called a `dtype`).  You can see all supported `dtypes` at `tf.dtypes.DType`.\n",
    "\n",
    "If you're familiar with [NumPy](https://dphi.tech/lms/learn/introduction-to-numpy), tensors are (kind of) like `np.arrays`.\n",
    "\n",
    "All tensors are immutable like Python numbers and strings: you can never update the contents of a tensor, only create a new one.\n"
   ]
  },
  {
   "cell_type": "markdown",
   "metadata": {
    "id": "DRK5-9EpYbzG",
    "papermill": {
     "duration": 0.040857,
     "end_time": "2020-09-23T17:09:45.833296",
     "exception": false,
     "start_time": "2020-09-23T17:09:45.792439",
     "status": "completed"
    },
    "tags": []
   },
   "source": [
    "## Basics\n",
    "\n",
    "Before creating basic tensors, let's understand some basics. "
   ]
  },
  {
   "cell_type": "markdown",
   "metadata": {
    "id": "gC1tqBu7MFAP",
    "papermill": {
     "duration": 0.039672,
     "end_time": "2020-09-23T17:09:45.913125",
     "exception": false,
     "start_time": "2020-09-23T17:09:45.873453",
     "status": "completed"
    },
    "tags": []
   },
   "source": [
    "### **Scalar, Vector, Matrix 101**\n",
    "\n",
    "\n",
    "![image name](https://dphi-courses.s3.ap-south-1.amazonaws.com/tensor.jpeg)\n",
    "\n",
    "* A scalar is a single number\n",
    "* A vector is an array of numbers.\n",
    "* A matrix is a 2-D array\n",
    "* A tensor is a n-dimensional array with n >2\n",
    "\n"
   ]
  },
  {
   "cell_type": "markdown",
   "metadata": {
    "id": "b1RGlZmv4bQb",
    "papermill": {
     "duration": 0.039605,
     "end_time": "2020-09-23T17:09:45.992795",
     "exception": false,
     "start_time": "2020-09-23T17:09:45.953190",
     "status": "completed"
    },
    "tags": []
   },
   "source": [
    "###  **Understanding Dimension - Indexes - Rank - Axes - Shape**\n",
    "\n",
    "1.   List item\n",
    "2.   List item\n",
    "\n"
   ]
  },
  {
   "cell_type": "markdown",
   "metadata": {
    "id": "Qlpin3u1mc-a",
    "papermill": {
     "duration": 0.039516,
     "end_time": "2020-09-23T17:09:46.071896",
     "exception": false,
     "start_time": "2020-09-23T17:09:46.032380",
     "status": "completed"
    },
    "tags": []
   },
   "source": [
    "####**Dimension:** \n",
    "\n",
    "Let’s take an example of box to explain this. A simple box can have three dimensions width, length and depth (or height). Similarly, in data science we will be working “N” dimensional datasets. “N” could be any number.\n",
    "\n",
    "\n",
    "![image name](https://dphi-courses.s3.ap-south-1.amazonaws.com/introduction-to-numpy/dimensions.png)\n",
    "\n"
   ]
  },
  {
   "cell_type": "markdown",
   "metadata": {
    "id": "EbgF-cNp3N1q",
    "papermill": {
     "duration": 0.039725,
     "end_time": "2020-09-23T17:09:46.150423",
     "exception": false,
     "start_time": "2020-09-23T17:09:46.110698",
     "status": "completed"
    },
    "tags": []
   },
   "source": [
    "\n",
    "####**Indexes:** \n",
    "\n",
    "Indexes are required to access an element in a Data Structure.\n",
    "\n",
    "![image name](https://dphi-courses.s3.ap-south-1.amazonaws.com/introduction-to-numpy/index+humans+and+python.png)"
   ]
  },
  {
   "cell_type": "markdown",
   "metadata": {
    "id": "oVqWEpQzmqv1",
    "papermill": {
     "duration": 0.040002,
     "end_time": "2020-09-23T17:09:46.230048",
     "exception": false,
     "start_time": "2020-09-23T17:09:46.190046",
     "status": "completed"
    },
    "tags": []
   },
   "source": [
    "For example, suppose we have this array:"
   ]
  },
  {
   "cell_type": "code",
   "execution_count": 2,
   "metadata": {
    "execution": {
     "iopub.execute_input": "2020-09-23T17:09:46.315620Z",
     "iopub.status.busy": "2020-09-23T17:09:46.314977Z",
     "iopub.status.idle": "2020-09-23T17:09:46.317822Z",
     "shell.execute_reply": "2020-09-23T17:09:46.318398Z"
    },
    "id": "MIWfP4Lik6dN",
    "papermill": {
     "duration": 0.04819,
     "end_time": "2020-09-23T17:09:46.318550",
     "exception": false,
     "start_time": "2020-09-23T17:09:46.270360",
     "status": "completed"
    },
    "tags": []
   },
   "outputs": [],
   "source": [
    "a = [1,2,3,4]"
   ]
  },
  {
   "cell_type": "markdown",
   "metadata": {
    "id": "9NigILGSlE48",
    "papermill": {
     "duration": 0.040392,
     "end_time": "2020-09-23T17:09:46.399319",
     "exception": false,
     "start_time": "2020-09-23T17:09:46.358927",
     "status": "completed"
    },
    "tags": []
   },
   "source": [
    "Now, suppose we want to access (refer to) the number 3 in this data structure. We can do it using a single index like so:\n"
   ]
  },
  {
   "cell_type": "code",
   "execution_count": 3,
   "metadata": {
    "execution": {
     "iopub.execute_input": "2020-09-23T17:09:46.482424Z",
     "iopub.status.busy": "2020-09-23T17:09:46.481647Z",
     "iopub.status.idle": "2020-09-23T17:09:46.488002Z",
     "shell.execute_reply": "2020-09-23T17:09:46.488516Z"
    },
    "id": "0eczFHQflIT1",
    "outputId": "bdccabcd-9485-4d86-ec42-532a645106c2",
    "papermill": {
     "duration": 0.049577,
     "end_time": "2020-09-23T17:09:46.488671",
     "exception": false,
     "start_time": "2020-09-23T17:09:46.439094",
     "status": "completed"
    },
    "tags": []
   },
   "outputs": [
    {
     "data": {
      "text/plain": [
       "3"
      ]
     },
     "execution_count": 3,
     "metadata": {},
     "output_type": "execute_result"
    }
   ],
   "source": [
    "a[2]"
   ]
  },
  {
   "cell_type": "code",
   "execution_count": 4,
   "metadata": {
    "execution": {
     "iopub.execute_input": "2020-09-23T17:09:46.573800Z",
     "iopub.status.busy": "2020-09-23T17:09:46.573078Z",
     "iopub.status.idle": "2020-09-23T17:09:46.578901Z",
     "shell.execute_reply": "2020-09-23T17:09:46.578343Z"
    },
    "id": "gSAXNeR4mF_M",
    "papermill": {
     "duration": 0.049376,
     "end_time": "2020-09-23T17:09:46.579024",
     "exception": false,
     "start_time": "2020-09-23T17:09:46.529648",
     "status": "completed"
    },
    "tags": []
   },
   "outputs": [],
   "source": [
    "#As another example, suppose we have this 2d-array:\n",
    " \n",
    "dd = [\n",
    "[1,2,3],\n",
    "[4,5,6],\n",
    "[7,8,9]\n",
    "] "
   ]
  },
  {
   "cell_type": "markdown",
   "metadata": {
    "id": "HC00vVscmLIP",
    "papermill": {
     "duration": 0.044513,
     "end_time": "2020-09-23T17:09:46.668142",
     "exception": false,
     "start_time": "2020-09-23T17:09:46.623629",
     "status": "completed"
    },
    "tags": []
   },
   "source": [
    "Now, suppose we want to access (refer to) the number 3 in this data structure. In this case, we need two indexes to locate the specific element."
   ]
  },
  {
   "cell_type": "code",
   "execution_count": 5,
   "metadata": {
    "execution": {
     "iopub.execute_input": "2020-09-23T17:09:46.759074Z",
     "iopub.status.busy": "2020-09-23T17:09:46.758079Z",
     "iopub.status.idle": "2020-09-23T17:09:46.762901Z",
     "shell.execute_reply": "2020-09-23T17:09:46.762208Z"
    },
    "id": "mlaLIpKdmQXT",
    "outputId": "0e5504d6-c425-4aa3-c911-9b104be92e7c",
    "papermill": {
     "duration": 0.051957,
     "end_time": "2020-09-23T17:09:46.763020",
     "exception": false,
     "start_time": "2020-09-23T17:09:46.711063",
     "status": "completed"
    },
    "tags": []
   },
   "outputs": [
    {
     "data": {
      "text/plain": [
       "3"
      ]
     },
     "execution_count": 5,
     "metadata": {},
     "output_type": "execute_result"
    }
   ],
   "source": [
    "dd[0][2]"
   ]
  },
  {
   "cell_type": "markdown",
   "metadata": {
    "id": "cqAsnbKDk9tV",
    "papermill": {
     "duration": 0.042497,
     "end_time": "2020-09-23T17:09:46.847346",
     "exception": false,
     "start_time": "2020-09-23T17:09:46.804849",
     "status": "completed"
    },
    "tags": []
   },
   "source": [
    "\n",
    "\n",
    "\n",
    "#### **Rank:**\n",
    "\n",
    "\n",
    "The rank of a tensor refers to the number of dimensions present within the tensor.\n",
    "\n",
    "\n",
    "**Rank & Indexes:**\n",
    "\n",
    "The rank of a tensor tells us how many indexes are required to access (refer to) a specific data element contained within the tensor data structure.\n",
    "\n",
    "A tensor's rank tells us how many indexes are needed to refer to a specific element within the tensor."
   ]
  },
  {
   "cell_type": "markdown",
   "metadata": {
    "id": "JQVfVCCnnLoG",
    "papermill": {
     "duration": 0.041468,
     "end_time": "2020-09-23T17:09:46.931093",
     "exception": false,
     "start_time": "2020-09-23T17:09:46.889625",
     "status": "completed"
    },
    "tags": []
   },
   "source": [
    "####**Tensor Axes Example**\n",
    "Let's look at some examples to make this solid. We'll consider the same tensor dd as before:"
   ]
  },
  {
   "cell_type": "code",
   "execution_count": 6,
   "metadata": {
    "execution": {
     "iopub.execute_input": "2020-09-23T17:09:47.022899Z",
     "iopub.status.busy": "2020-09-23T17:09:47.021831Z",
     "iopub.status.idle": "2020-09-23T17:09:47.025580Z",
     "shell.execute_reply": "2020-09-23T17:09:47.024938Z"
    },
    "id": "5taicCVynI-q",
    "papermill": {
     "duration": 0.051201,
     "end_time": "2020-09-23T17:09:47.025694",
     "exception": false,
     "start_time": "2020-09-23T17:09:46.974493",
     "status": "completed"
    },
    "tags": []
   },
   "outputs": [],
   "source": [
    "dd = [\n",
    "[1,2,3],\n",
    "[4,5,6],\n",
    "[7,8,9]\n",
    "]"
   ]
  },
  {
   "cell_type": "markdown",
   "metadata": {
    "id": "HTM0AWnHnXz9",
    "papermill": {
     "duration": 0.041651,
     "end_time": "2020-09-23T17:09:47.108761",
     "exception": false,
     "start_time": "2020-09-23T17:09:47.067110",
     "status": "completed"
    },
    "tags": []
   },
   "source": [
    "Each element along the first axis, is an array:"
   ]
  },
  {
   "cell_type": "code",
   "execution_count": 7,
   "metadata": {
    "execution": {
     "iopub.execute_input": "2020-09-23T17:09:47.198426Z",
     "iopub.status.busy": "2020-09-23T17:09:47.197230Z",
     "iopub.status.idle": "2020-09-23T17:09:47.202201Z",
     "shell.execute_reply": "2020-09-23T17:09:47.201610Z"
    },
    "id": "Vi3x_huDnbmO",
    "outputId": "93d10b84-8f9e-49d3-8d83-b4bafbc4d1a6",
    "papermill": {
     "duration": 0.052101,
     "end_time": "2020-09-23T17:09:47.202320",
     "exception": false,
     "start_time": "2020-09-23T17:09:47.150219",
     "status": "completed"
    },
    "tags": []
   },
   "outputs": [
    {
     "data": {
      "text/plain": [
       "[1, 2, 3]"
      ]
     },
     "execution_count": 7,
     "metadata": {},
     "output_type": "execute_result"
    }
   ],
   "source": [
    "dd[0]"
   ]
  },
  {
   "cell_type": "code",
   "execution_count": 8,
   "metadata": {
    "execution": {
     "iopub.execute_input": "2020-09-23T17:09:47.291369Z",
     "iopub.status.busy": "2020-09-23T17:09:47.290686Z",
     "iopub.status.idle": "2020-09-23T17:09:47.294866Z",
     "shell.execute_reply": "2020-09-23T17:09:47.294153Z"
    },
    "id": "6gFrQ3iAnftJ",
    "outputId": "5def25e2-1054-4d17-d50d-b016c8d50f93",
    "papermill": {
     "duration": 0.050842,
     "end_time": "2020-09-23T17:09:47.294995",
     "exception": false,
     "start_time": "2020-09-23T17:09:47.244153",
     "status": "completed"
    },
    "tags": []
   },
   "outputs": [
    {
     "data": {
      "text/plain": [
       "[4, 5, 6]"
      ]
     },
     "execution_count": 8,
     "metadata": {},
     "output_type": "execute_result"
    }
   ],
   "source": [
    "dd[1]"
   ]
  },
  {
   "cell_type": "code",
   "execution_count": 9,
   "metadata": {
    "execution": {
     "iopub.execute_input": "2020-09-23T17:09:47.386282Z",
     "iopub.status.busy": "2020-09-23T17:09:47.385445Z",
     "iopub.status.idle": "2020-09-23T17:09:47.390118Z",
     "shell.execute_reply": "2020-09-23T17:09:47.389535Z"
    },
    "id": "sLyrskronhGT",
    "outputId": "0c867c28-24fa-4eb4-d9e9-e2c593a23e5c",
    "papermill": {
     "duration": 0.052642,
     "end_time": "2020-09-23T17:09:47.390243",
     "exception": false,
     "start_time": "2020-09-23T17:09:47.337601",
     "status": "completed"
    },
    "tags": []
   },
   "outputs": [
    {
     "data": {
      "text/plain": [
       "[7, 8, 9]"
      ]
     },
     "execution_count": 9,
     "metadata": {},
     "output_type": "execute_result"
    }
   ],
   "source": [
    "dd[2]"
   ]
  },
  {
   "cell_type": "markdown",
   "metadata": {
    "id": "yDEMCy-wnmUU",
    "papermill": {
     "duration": 0.04151,
     "end_time": "2020-09-23T17:09:47.474669",
     "exception": false,
     "start_time": "2020-09-23T17:09:47.433159",
     "status": "completed"
    },
    "tags": []
   },
   "source": [
    "Each element along the second axis, is a number:"
   ]
  },
  {
   "cell_type": "code",
   "execution_count": 10,
   "metadata": {
    "execution": {
     "iopub.execute_input": "2020-09-23T17:09:47.567084Z",
     "iopub.status.busy": "2020-09-23T17:09:47.566240Z",
     "iopub.status.idle": "2020-09-23T17:09:47.569946Z",
     "shell.execute_reply": "2020-09-23T17:09:47.570491Z"
    },
    "id": "UeQbTugrnp_B",
    "outputId": "1759c9de-1520-43c4-8d6a-16cd3608bc0a",
    "papermill": {
     "duration": 0.052543,
     "end_time": "2020-09-23T17:09:47.570632",
     "exception": false,
     "start_time": "2020-09-23T17:09:47.518089",
     "status": "completed"
    },
    "tags": []
   },
   "outputs": [
    {
     "data": {
      "text/plain": [
       "1"
      ]
     },
     "execution_count": 10,
     "metadata": {},
     "output_type": "execute_result"
    }
   ],
   "source": [
    "dd[0][0]"
   ]
  },
  {
   "cell_type": "code",
   "execution_count": 11,
   "metadata": {
    "execution": {
     "iopub.execute_input": "2020-09-23T17:09:47.663289Z",
     "iopub.status.busy": "2020-09-23T17:09:47.662318Z",
     "iopub.status.idle": "2020-09-23T17:09:47.666769Z",
     "shell.execute_reply": "2020-09-23T17:09:47.666167Z"
    },
    "id": "d_ffimfUnuEu",
    "outputId": "ba8a0918-f249-4666-8f1e-2324b6567ffb",
    "papermill": {
     "duration": 0.052877,
     "end_time": "2020-09-23T17:09:47.666901",
     "exception": false,
     "start_time": "2020-09-23T17:09:47.614024",
     "status": "completed"
    },
    "tags": []
   },
   "outputs": [
    {
     "data": {
      "text/plain": [
       "4"
      ]
     },
     "execution_count": 11,
     "metadata": {},
     "output_type": "execute_result"
    }
   ],
   "source": [
    "dd[1][0]"
   ]
  },
  {
   "cell_type": "code",
   "execution_count": 12,
   "metadata": {
    "execution": {
     "iopub.execute_input": "2020-09-23T17:09:47.762108Z",
     "iopub.status.busy": "2020-09-23T17:09:47.761293Z",
     "iopub.status.idle": "2020-09-23T17:09:47.765029Z",
     "shell.execute_reply": "2020-09-23T17:09:47.764399Z"
    },
    "id": "e-1zZWL1oDHp",
    "outputId": "083ffa0c-f817-4674-d06f-f9357e0940f0",
    "papermill": {
     "duration": 0.053924,
     "end_time": "2020-09-23T17:09:47.765138",
     "exception": false,
     "start_time": "2020-09-23T17:09:47.711214",
     "status": "completed"
    },
    "tags": []
   },
   "outputs": [
    {
     "data": {
      "text/plain": [
       "7"
      ]
     },
     "execution_count": 12,
     "metadata": {},
     "output_type": "execute_result"
    }
   ],
   "source": [
    "dd[2][0]"
   ]
  },
  {
   "cell_type": "code",
   "execution_count": 13,
   "metadata": {
    "execution": {
     "iopub.execute_input": "2020-09-23T17:09:47.856631Z",
     "iopub.status.busy": "2020-09-23T17:09:47.855888Z",
     "iopub.status.idle": "2020-09-23T17:09:47.860791Z",
     "shell.execute_reply": "2020-09-23T17:09:47.861336Z"
    },
    "id": "HxQB_EvnoFLD",
    "outputId": "99605027-2620-4258-9e39-82af8c15c8e8",
    "papermill": {
     "duration": 0.05261,
     "end_time": "2020-09-23T17:09:47.861473",
     "exception": false,
     "start_time": "2020-09-23T17:09:47.808863",
     "status": "completed"
    },
    "tags": []
   },
   "outputs": [
    {
     "data": {
      "text/plain": [
       "2"
      ]
     },
     "execution_count": 13,
     "metadata": {},
     "output_type": "execute_result"
    }
   ],
   "source": [
    "dd[0][1]"
   ]
  },
  {
   "cell_type": "code",
   "execution_count": 14,
   "metadata": {
    "execution": {
     "iopub.execute_input": "2020-09-23T17:09:47.956061Z",
     "iopub.status.busy": "2020-09-23T17:09:47.955365Z",
     "iopub.status.idle": "2020-09-23T17:09:47.960588Z",
     "shell.execute_reply": "2020-09-23T17:09:47.961173Z"
    },
    "id": "hde4G959oHCG",
    "outputId": "4d356967-0ac1-46f1-8b0f-b0d97352bbf4",
    "papermill": {
     "duration": 0.053869,
     "end_time": "2020-09-23T17:09:47.961331",
     "exception": false,
     "start_time": "2020-09-23T17:09:47.907462",
     "status": "completed"
    },
    "tags": []
   },
   "outputs": [
    {
     "data": {
      "text/plain": [
       "5"
      ]
     },
     "execution_count": 14,
     "metadata": {},
     "output_type": "execute_result"
    }
   ],
   "source": [
    "dd[1][1]"
   ]
  },
  {
   "cell_type": "code",
   "execution_count": 15,
   "metadata": {
    "execution": {
     "iopub.execute_input": "2020-09-23T17:09:48.057127Z",
     "iopub.status.busy": "2020-09-23T17:09:48.056488Z",
     "iopub.status.idle": "2020-09-23T17:09:48.061503Z",
     "shell.execute_reply": "2020-09-23T17:09:48.062057Z"
    },
    "id": "Q3AJ53k7oJBt",
    "outputId": "45c744a5-c02f-4ba9-e7ef-06be6b388c89",
    "papermill": {
     "duration": 0.05436,
     "end_time": "2020-09-23T17:09:48.062202",
     "exception": false,
     "start_time": "2020-09-23T17:09:48.007842",
     "status": "completed"
    },
    "tags": []
   },
   "outputs": [
    {
     "data": {
      "text/plain": [
       "8"
      ]
     },
     "execution_count": 15,
     "metadata": {},
     "output_type": "execute_result"
    }
   ],
   "source": [
    "dd[2][1]"
   ]
  },
  {
   "cell_type": "code",
   "execution_count": 16,
   "metadata": {
    "execution": {
     "iopub.execute_input": "2020-09-23T17:09:48.159729Z",
     "iopub.status.busy": "2020-09-23T17:09:48.158989Z",
     "iopub.status.idle": "2020-09-23T17:09:48.163114Z",
     "shell.execute_reply": "2020-09-23T17:09:48.163758Z"
    },
    "id": "EpFk6rA-oLu6",
    "outputId": "5f19e4a6-5c74-48ae-c122-133da91dfd9d",
    "papermill": {
     "duration": 0.055446,
     "end_time": "2020-09-23T17:09:48.163963",
     "exception": false,
     "start_time": "2020-09-23T17:09:48.108517",
     "status": "completed"
    },
    "tags": []
   },
   "outputs": [
    {
     "data": {
      "text/plain": [
       "3"
      ]
     },
     "execution_count": 16,
     "metadata": {},
     "output_type": "execute_result"
    }
   ],
   "source": [
    "dd[0][2]"
   ]
  },
  {
   "cell_type": "code",
   "execution_count": 17,
   "metadata": {
    "execution": {
     "iopub.execute_input": "2020-09-23T17:09:48.263556Z",
     "iopub.status.busy": "2020-09-23T17:09:48.262877Z",
     "iopub.status.idle": "2020-09-23T17:09:48.265699Z",
     "shell.execute_reply": "2020-09-23T17:09:48.266288Z"
    },
    "id": "pTI6JgqpoNdv",
    "outputId": "11f985f6-c9e6-44e4-ccf1-09577b4d75bc",
    "papermill": {
     "duration": 0.055091,
     "end_time": "2020-09-23T17:09:48.266438",
     "exception": false,
     "start_time": "2020-09-23T17:09:48.211347",
     "status": "completed"
    },
    "tags": []
   },
   "outputs": [
    {
     "data": {
      "text/plain": [
       "6"
      ]
     },
     "execution_count": 17,
     "metadata": {},
     "output_type": "execute_result"
    }
   ],
   "source": [
    "dd[1][2]"
   ]
  },
  {
   "cell_type": "code",
   "execution_count": 18,
   "metadata": {
    "execution": {
     "iopub.execute_input": "2020-09-23T17:09:48.364541Z",
     "iopub.status.busy": "2020-09-23T17:09:48.363865Z",
     "iopub.status.idle": "2020-09-23T17:09:48.369688Z",
     "shell.execute_reply": "2020-09-23T17:09:48.370239Z"
    },
    "id": "POtrABg_oPhy",
    "outputId": "975c55e1-fb93-4b6b-e247-d03d3d229b91",
    "papermill": {
     "duration": 0.05705,
     "end_time": "2020-09-23T17:09:48.370433",
     "exception": false,
     "start_time": "2020-09-23T17:09:48.313383",
     "status": "completed"
    },
    "tags": []
   },
   "outputs": [
    {
     "data": {
      "text/plain": [
       "9"
      ]
     },
     "execution_count": 18,
     "metadata": {},
     "output_type": "execute_result"
    }
   ],
   "source": [
    "dd[2][2]"
   ]
  },
  {
   "cell_type": "markdown",
   "metadata": {
    "id": "8wcAMOtWoabU",
    "papermill": {
     "duration": 0.046917,
     "end_time": "2020-09-23T17:09:48.465208",
     "exception": false,
     "start_time": "2020-09-23T17:09:48.418291",
     "status": "completed"
    },
    "tags": []
   },
   "source": [
    "Note that, with tensors, the elements of the last axis are always numbers. Every other axis will contain n-dimensional arrays. This is what we see in this example, but this idea generalizes.\n",
    "\n",
    "The rank of a tensor tells us how many axes a tensor has, and the length of these axes leads us to the very important concept known as the shape of a tensor."
   ]
  },
  {
   "cell_type": "markdown",
   "metadata": {
    "id": "z5eNCBLTogsK",
    "papermill": {
     "duration": 0.046882,
     "end_time": "2020-09-23T17:09:48.559938",
     "exception": false,
     "start_time": "2020-09-23T17:09:48.513056",
     "status": "completed"
    },
    "tags": []
   },
   "source": [
    "### **Shape of a Tensor**\n",
    "\n",
    "The shape of a tensor is determined by the length of each axis, so if we know the shape of a given tensor, then we know the length of each axis, and this tells us how many indexes are available along each axis.\n",
    "\n",
    "The shape of a tensor gives us the length of each axis of the tensor.\n",
    "Let’s consider the same tensor dd as before:"
   ]
  },
  {
   "cell_type": "code",
   "execution_count": 19,
   "metadata": {
    "execution": {
     "iopub.execute_input": "2020-09-23T17:09:48.661423Z",
     "iopub.status.busy": "2020-09-23T17:09:48.660725Z",
     "iopub.status.idle": "2020-09-23T17:09:48.664340Z",
     "shell.execute_reply": "2020-09-23T17:09:48.663614Z"
    },
    "id": "RmGm59LLoh38",
    "papermill": {
     "duration": 0.056292,
     "end_time": "2020-09-23T17:09:48.664454",
     "exception": false,
     "start_time": "2020-09-23T17:09:48.608162",
     "status": "completed"
    },
    "tags": []
   },
   "outputs": [],
   "source": [
    "# Let's say we have a 2D array\n",
    "dd = [\n",
    "[1,2,3],\n",
    "[4,5,6],\n",
    "[7,8,9]\n",
    "]\n"
   ]
  },
  {
   "cell_type": "code",
   "execution_count": 20,
   "metadata": {
    "execution": {
     "iopub.execute_input": "2020-09-23T17:09:48.801152Z",
     "iopub.status.busy": "2020-09-23T17:09:48.800397Z",
     "iopub.status.idle": "2020-09-23T17:09:48.808766Z",
     "shell.execute_reply": "2020-09-23T17:09:48.807761Z"
    },
    "id": "vfVhTkuWoxUT",
    "outputId": "4da6ac19-6c6a-47f2-b12e-fc6ac4bd9bd9",
    "papermill": {
     "duration": 0.096001,
     "end_time": "2020-09-23T17:09:48.808907",
     "exception": false,
     "start_time": "2020-09-23T17:09:48.712906",
     "status": "completed"
    },
    "tags": []
   },
   "outputs": [
    {
     "data": {
      "text/plain": [
       "<tf.Tensor: shape=(3, 3), dtype=int32, numpy=\n",
       "array([[1, 2, 3],\n",
       "       [4, 5, 6],\n",
       "       [7, 8, 9]], dtype=int32)>"
      ]
     },
     "execution_count": 20,
     "metadata": {},
     "output_type": "execute_result"
    }
   ],
   "source": [
    "#To work with this tensor's shape, we’ll create a tensor object like so:\n",
    "\n",
    "t = tf.constant(dd)      # constant() is a function that helps you create a constant tensor\n",
    "t"
   ]
  },
  {
   "cell_type": "code",
   "execution_count": 21,
   "metadata": {
    "execution": {
     "iopub.execute_input": "2020-09-23T17:09:48.914023Z",
     "iopub.status.busy": "2020-09-23T17:09:48.913132Z",
     "iopub.status.idle": "2020-09-23T17:09:48.917540Z",
     "shell.execute_reply": "2020-09-23T17:09:48.917057Z"
    },
    "id": "YUol5cwJwwu6",
    "outputId": "b1632fa3-9a75-4493-ab6d-5a089a5aa579",
    "papermill": {
     "duration": 0.060338,
     "end_time": "2020-09-23T17:09:48.917684",
     "exception": false,
     "start_time": "2020-09-23T17:09:48.857346",
     "status": "completed"
    },
    "tags": []
   },
   "outputs": [
    {
     "data": {
      "text/plain": [
       "tensorflow.python.framework.ops.EagerTensor"
      ]
     },
     "execution_count": 21,
     "metadata": {},
     "output_type": "execute_result"
    }
   ],
   "source": [
    "type(t)   # To get the type of object t"
   ]
  },
  {
   "cell_type": "code",
   "execution_count": 22,
   "metadata": {
    "execution": {
     "iopub.execute_input": "2020-09-23T17:09:49.022004Z",
     "iopub.status.busy": "2020-09-23T17:09:49.021029Z",
     "iopub.status.idle": "2020-09-23T17:09:49.025796Z",
     "shell.execute_reply": "2020-09-23T17:09:49.025245Z"
    },
    "id": "vi5Fx8_co_Mc",
    "outputId": "73ad6c51-e33d-48c6-e1e3-c8394b65f951",
    "papermill": {
     "duration": 0.058998,
     "end_time": "2020-09-23T17:09:49.026019",
     "exception": false,
     "start_time": "2020-09-23T17:09:48.967021",
     "status": "completed"
    },
    "tags": []
   },
   "outputs": [
    {
     "data": {
      "text/plain": [
       "TensorShape([3, 3])"
      ]
     },
     "execution_count": 22,
     "metadata": {},
     "output_type": "execute_result"
    }
   ],
   "source": [
    "# Now, we have a Tensor object, and so we can ask to see the tensor's shape:\n",
    "\n",
    "t.shape"
   ]
  },
  {
   "cell_type": "markdown",
   "metadata": {
    "id": "P8JEb0w7q46f",
    "papermill": {
     "duration": 0.048568,
     "end_time": "2020-09-23T17:09:49.126955",
     "exception": false,
     "start_time": "2020-09-23T17:09:49.078387",
     "status": "completed"
    },
    "tags": []
   },
   "source": [
    "# Tensor Operation Types\n",
    "Before we dive in with specific tensor operations, let’s get a quick overview of the landscape by looking at the main operation categories that encompass the operations we’ll cover. We have the following high-level categories of operations:\n",
    "\n",
    "1. Reshaping operations\n",
    "2. Element-wise operations\n",
    "3. Reduction operations\n",
    "4. Access operations"
   ]
  },
  {
   "cell_type": "markdown",
   "metadata": {
    "id": "D9h1U1JjrMw2",
    "papermill": {
     "duration": 0.048057,
     "end_time": "2020-09-23T17:09:49.224217",
     "exception": false,
     "start_time": "2020-09-23T17:09:49.176160",
     "status": "completed"
    },
    "tags": []
   },
   "source": [
    "## Reshaping A Tensor In TensorFlow\n",
    "Let’s look now at all the ways in which this tensor t can be reshaped without changing the rank:"
   ]
  },
  {
   "cell_type": "markdown",
   "metadata": {
    "id": "xBEAAKPOrd7X",
    "papermill": {
     "duration": 0.048637,
     "end_time": "2020-09-23T17:09:49.321199",
     "exception": false,
     "start_time": "2020-09-23T17:09:49.272562",
     "status": "completed"
    },
    "tags": []
   },
   "source": [
    "Suppose that we have the following tensor:"
   ]
  },
  {
   "cell_type": "code",
   "execution_count": 23,
   "metadata": {
    "execution": {
     "iopub.execute_input": "2020-09-23T17:09:49.426664Z",
     "iopub.status.busy": "2020-09-23T17:09:49.425556Z",
     "iopub.status.idle": "2020-09-23T17:09:49.429081Z",
     "shell.execute_reply": "2020-09-23T17:09:49.428442Z"
    },
    "id": "hTuY3m3hracX",
    "papermill": {
     "duration": 0.058861,
     "end_time": "2020-09-23T17:09:49.429192",
     "exception": false,
     "start_time": "2020-09-23T17:09:49.370331",
     "status": "completed"
    },
    "tags": []
   },
   "outputs": [],
   "source": [
    "t = tf.constant([\n",
    "    [1,1,1,1],\n",
    "    [2,2,2,2],\n",
    "    [3,3,3,3]\n",
    "], dtype=tf.float32)    # can also mention the type of the element we want in the tensor"
   ]
  },
  {
   "cell_type": "code",
   "execution_count": 24,
   "metadata": {
    "execution": {
     "iopub.execute_input": "2020-09-23T17:09:49.534226Z",
     "iopub.status.busy": "2020-09-23T17:09:49.533447Z",
     "iopub.status.idle": "2020-09-23T17:09:49.546831Z",
     "shell.execute_reply": "2020-09-23T17:09:49.547511Z"
    },
    "id": "gKadLQDTrPJG",
    "outputId": "7d2ab581-0dcb-4483-d34a-7248a0841efa",
    "papermill": {
     "duration": 0.070742,
     "end_time": "2020-09-23T17:09:49.547716",
     "exception": false,
     "start_time": "2020-09-23T17:09:49.476974",
     "status": "completed"
    },
    "tags": []
   },
   "outputs": [
    {
     "name": "stdout",
     "output_type": "stream",
     "text": [
      "tf.Tensor([[1. 1. 1. 1. 2. 2. 2. 2. 3. 3. 3. 3.]], shape=(1, 12), dtype=float32)\n"
     ]
    }
   ],
   "source": [
    "reshaped_tensor = tf.reshape(t, [1,12])     # reshape is a function that helps to reshaping any ndarray or ndtensor\n",
    "print(reshaped_tensor)"
   ]
  },
  {
   "cell_type": "code",
   "execution_count": 25,
   "metadata": {
    "execution": {
     "iopub.execute_input": "2020-09-23T17:09:49.655365Z",
     "iopub.status.busy": "2020-09-23T17:09:49.654470Z",
     "iopub.status.idle": "2020-09-23T17:09:49.658287Z",
     "shell.execute_reply": "2020-09-23T17:09:49.658827Z"
    },
    "id": "yhRlCLL0rTZu",
    "outputId": "b1ce6875-e275-458a-8917-eecd13be7efb",
    "papermill": {
     "duration": 0.060953,
     "end_time": "2020-09-23T17:09:49.658966",
     "exception": false,
     "start_time": "2020-09-23T17:09:49.598013",
     "status": "completed"
    },
    "tags": []
   },
   "outputs": [
    {
     "name": "stdout",
     "output_type": "stream",
     "text": [
      "tf.Tensor(\n",
      "[[1. 1. 1. 1. 2. 2.]\n",
      " [2. 2. 3. 3. 3. 3.]], shape=(2, 6), dtype=float32)\n"
     ]
    }
   ],
   "source": [
    "reshaped_tensor = tf.reshape(t, [2,6])\n",
    "print(reshaped_tensor)"
   ]
  },
  {
   "cell_type": "code",
   "execution_count": 26,
   "metadata": {
    "execution": {
     "iopub.execute_input": "2020-09-23T17:09:49.764770Z",
     "iopub.status.busy": "2020-09-23T17:09:49.763899Z",
     "iopub.status.idle": "2020-09-23T17:09:49.770746Z",
     "shell.execute_reply": "2020-09-23T17:09:49.771850Z"
    },
    "id": "4eCFm3WXrj3s",
    "outputId": "06c098e4-8471-489b-9a5e-dc76b7f5d2e9",
    "papermill": {
     "duration": 0.062002,
     "end_time": "2020-09-23T17:09:49.772053",
     "exception": false,
     "start_time": "2020-09-23T17:09:49.710051",
     "status": "completed"
    },
    "tags": []
   },
   "outputs": [
    {
     "name": "stdout",
     "output_type": "stream",
     "text": [
      "tf.Tensor(\n",
      "[[1. 1. 1. 1.]\n",
      " [2. 2. 2. 2.]\n",
      " [3. 3. 3. 3.]], shape=(3, 4), dtype=float32)\n"
     ]
    }
   ],
   "source": [
    "reshaped_tensor = tf.reshape(t, [3,4])\n",
    "print(reshaped_tensor)"
   ]
  },
  {
   "cell_type": "markdown",
   "metadata": {
    "id": "SyM79z5nrouW",
    "papermill": {
     "duration": 0.051414,
     "end_time": "2020-09-23T17:09:49.875275",
     "exception": false,
     "start_time": "2020-09-23T17:09:49.823861",
     "status": "completed"
    },
    "tags": []
   },
   "source": [
    "Using the `reshape()` function, we can specify the `row x column` shape that we are seeking. Notice how all of the shapes have to account for the number of elements in the tensor. In our example this is:\n",
    "\n",
    "\n",
    "\n",
    "```\n",
    "rows * columns = 12 elements\n",
    "```\n",
    "\n"
   ]
  },
  {
   "cell_type": "markdown",
   "metadata": {
    "id": "HaFhqZAGr4u8",
    "papermill": {
     "duration": 0.051022,
     "end_time": "2020-09-23T17:09:50.024104",
     "exception": false,
     "start_time": "2020-09-23T17:09:49.973082",
     "status": "completed"
    },
    "tags": []
   },
   "source": [
    "We can use the intuitive words rows and columns when we are dealing with a rank 2 tensor. The underlying logic is the same for higher dimensional tenors even though we may not be able to use the intuition of rows and columns in higher dimensional spaces. For example:"
   ]
  },
  {
   "cell_type": "code",
   "execution_count": 27,
   "metadata": {
    "execution": {
     "iopub.execute_input": "2020-09-23T17:09:50.133225Z",
     "iopub.status.busy": "2020-09-23T17:09:50.132534Z",
     "iopub.status.idle": "2020-09-23T17:09:50.136168Z",
     "shell.execute_reply": "2020-09-23T17:09:50.135559Z"
    },
    "id": "5hUcfpbUr8m0",
    "outputId": "db2ff390-d135-4d4d-ede0-42ff5cd52401",
    "papermill": {
     "duration": 0.061591,
     "end_time": "2020-09-23T17:09:50.136299",
     "exception": false,
     "start_time": "2020-09-23T17:09:50.074708",
     "status": "completed"
    },
    "tags": []
   },
   "outputs": [
    {
     "name": "stdout",
     "output_type": "stream",
     "text": [
      "tf.Tensor(\n",
      "[[[1. 1. 1.]\n",
      "  [1. 2. 2.]]\n",
      "\n",
      " [[2. 2. 3.]\n",
      "  [3. 3. 3.]]], shape=(2, 2, 3), dtype=float32)\n"
     ]
    }
   ],
   "source": [
    "reshaped_tensor = tf.reshape(t, [2,2,3])\n",
    "print(reshaped_tensor)"
   ]
  },
  {
   "cell_type": "markdown",
   "metadata": {
    "id": "8mR14GbJsHrD",
    "papermill": {
     "duration": 0.051135,
     "end_time": "2020-09-23T17:09:50.238535",
     "exception": false,
     "start_time": "2020-09-23T17:09:50.187400",
     "status": "completed"
    },
    "tags": []
   },
   "source": [
    "In this example, we increase the rank to 3, and so we lose the rows and columns concept. However, the product of the shape's components (2,2,3) still has to be equal to the number of elements in the original tensor ( 12)."
   ]
  },
  {
   "cell_type": "markdown",
   "metadata": {
    "id": "bH18ROyCsOYx",
    "papermill": {
     "duration": 0.051166,
     "end_time": "2020-09-23T17:09:50.341328",
     "exception": false,
     "start_time": "2020-09-23T17:09:50.290162",
     "status": "completed"
    },
    "tags": []
   },
   "source": [
    "## Changing Shape By Squeezing And Unsqueezing\n",
    "The next way we can change the shape of our tensors is by squeezing and unsqueezing them.\n",
    "\n",
    "1. Squeezing a tensor removes the dimensions or axes that have a length of one.\n",
    "2. Unsqueezing a tensor adds a dimension with a length of one.\n",
    "\n",
    "These functions allow us to expand or shrink the rank (number of dimensions) of our tensor. Let’s see this in action."
   ]
  },
  {
   "cell_type": "code",
   "execution_count": 28,
   "metadata": {
    "execution": {
     "iopub.execute_input": "2020-09-23T17:09:50.448289Z",
     "iopub.status.busy": "2020-09-23T17:09:50.447459Z",
     "iopub.status.idle": "2020-09-23T17:09:50.450607Z",
     "shell.execute_reply": "2020-09-23T17:09:50.451149Z"
    },
    "id": "vnxnybFDsbAi",
    "outputId": "117f2731-1e10-442d-e931-dff4b42bd8be",
    "papermill": {
     "duration": 0.059288,
     "end_time": "2020-09-23T17:09:50.451295",
     "exception": false,
     "start_time": "2020-09-23T17:09:50.392007",
     "status": "completed"
    },
    "tags": []
   },
   "outputs": [
    {
     "name": "stdout",
     "output_type": "stream",
     "text": [
      "tf.Tensor([[1. 1. 1. 1. 2. 2. 2. 2. 3. 3. 3. 3.]], shape=(1, 12), dtype=float32)\n"
     ]
    }
   ],
   "source": [
    "print(tf.reshape(t, [1,12]))"
   ]
  },
  {
   "cell_type": "code",
   "execution_count": 29,
   "metadata": {
    "execution": {
     "iopub.execute_input": "2020-09-23T17:09:50.557451Z",
     "iopub.status.busy": "2020-09-23T17:09:50.556718Z",
     "iopub.status.idle": "2020-09-23T17:09:50.561303Z",
     "shell.execute_reply": "2020-09-23T17:09:50.560574Z"
    },
    "id": "EzRm2kBqsbwY",
    "outputId": "b3dd25bb-5a69-4544-ed15-b47dd1bee8ce",
    "papermill": {
     "duration": 0.05973,
     "end_time": "2020-09-23T17:09:50.561459",
     "exception": false,
     "start_time": "2020-09-23T17:09:50.501729",
     "status": "completed"
    },
    "tags": []
   },
   "outputs": [
    {
     "name": "stdout",
     "output_type": "stream",
     "text": [
      "(1, 12)\n"
     ]
    }
   ],
   "source": [
    "print(tf.reshape(t, [1,12]).shape)"
   ]
  },
  {
   "cell_type": "code",
   "execution_count": 30,
   "metadata": {
    "execution": {
     "iopub.execute_input": "2020-09-23T17:09:50.670290Z",
     "iopub.status.busy": "2020-09-23T17:09:50.669643Z",
     "iopub.status.idle": "2020-09-23T17:09:50.681093Z",
     "shell.execute_reply": "2020-09-23T17:09:50.681653Z"
    },
    "id": "OuytZnoMsf20",
    "outputId": "b21bf1dc-6ab0-40ad-9ab7-b5ab7da8224f",
    "papermill": {
     "duration": 0.068626,
     "end_time": "2020-09-23T17:09:50.681889",
     "exception": false,
     "start_time": "2020-09-23T17:09:50.613263",
     "status": "completed"
    },
    "tags": []
   },
   "outputs": [
    {
     "name": "stdout",
     "output_type": "stream",
     "text": [
      "tf.Tensor([1. 1. 1. 1. 2. 2. 2. 2. 3. 3. 3. 3.], shape=(12,), dtype=float32)\n"
     ]
    }
   ],
   "source": [
    "print(tf.squeeze(tf.reshape(t, [1,12])))"
   ]
  },
  {
   "cell_type": "code",
   "execution_count": 31,
   "metadata": {
    "execution": {
     "iopub.execute_input": "2020-09-23T17:09:50.796330Z",
     "iopub.status.busy": "2020-09-23T17:09:50.795522Z",
     "iopub.status.idle": "2020-09-23T17:09:50.800228Z",
     "shell.execute_reply": "2020-09-23T17:09:50.801444Z"
    },
    "id": "-9YdRE4PsiQj",
    "outputId": "e85b153d-17ea-40d0-eebf-af09cdb40de5",
    "papermill": {
     "duration": 0.066813,
     "end_time": "2020-09-23T17:09:50.801830",
     "exception": false,
     "start_time": "2020-09-23T17:09:50.735017",
     "status": "completed"
    },
    "tags": []
   },
   "outputs": [
    {
     "name": "stdout",
     "output_type": "stream",
     "text": [
      "(12,)\n"
     ]
    }
   ],
   "source": [
    "print(tf.squeeze(tf.reshape(t, [1,12])).shape)"
   ]
  },
  {
   "cell_type": "markdown",
   "metadata": {
    "id": "ddubrHu1swqE",
    "papermill": {
     "duration": 0.05191,
     "end_time": "2020-09-23T17:09:50.909973",
     "exception": false,
     "start_time": "2020-09-23T17:09:50.858063",
     "status": "completed"
    },
    "tags": []
   },
   "source": [
    "\n",
    "Let’s look at a common use case for squeezing a tensor by building a flatten function.\n",
    "\n",
    "## Flatten A Tensor\n",
    "A flatten operation on a tensor reshapes the tensor to have a shape that is equal to the number of elements contained in the tensor. This is the same thing as a 1d-array of elements.\n",
    "\n",
    "\n",
    "\n",
    "```\n",
    "Flattening a tensor means to remove all of the dimensions except for one.\n",
    "```\n",
    "\n"
   ]
  },
  {
   "cell_type": "markdown",
   "metadata": {
    "id": "N3mb5Slps7fg",
    "papermill": {
     "duration": 0.052243,
     "end_time": "2020-09-23T17:09:51.014468",
     "exception": false,
     "start_time": "2020-09-23T17:09:50.962225",
     "status": "completed"
    },
    "tags": []
   },
   "source": [
    "Let’s create a Python function called `flatten()`:"
   ]
  },
  {
   "cell_type": "code",
   "execution_count": 32,
   "metadata": {
    "execution": {
     "iopub.execute_input": "2020-09-23T17:09:51.125180Z",
     "iopub.status.busy": "2020-09-23T17:09:51.124527Z",
     "iopub.status.idle": "2020-09-23T17:09:51.126760Z",
     "shell.execute_reply": "2020-09-23T17:09:51.127293Z"
    },
    "id": "Lr3z01VVtATw",
    "papermill": {
     "duration": 0.060722,
     "end_time": "2020-09-23T17:09:51.127440",
     "exception": false,
     "start_time": "2020-09-23T17:09:51.066718",
     "status": "completed"
    },
    "tags": []
   },
   "outputs": [],
   "source": [
    "def flatten(t):\n",
    "    t = tf.reshape(t, [1, -1])\n",
    "    t = tf.squeeze(t)\n",
    "    return t"
   ]
  },
  {
   "cell_type": "markdown",
   "metadata": {
    "id": "teqAjgCYtDcn",
    "papermill": {
     "duration": 0.051839,
     "end_time": "2020-09-23T17:09:51.231442",
     "exception": false,
     "start_time": "2020-09-23T17:09:51.179603",
     "status": "completed"
    },
    "tags": []
   },
   "source": [
    "The flatten() function takes in a tensor t as an argument."
   ]
  },
  {
   "cell_type": "markdown",
   "metadata": {
    "id": "fhVS-WRgtHaE",
    "papermill": {
     "duration": 0.051693,
     "end_time": "2020-09-23T17:09:51.335318",
     "exception": false,
     "start_time": "2020-09-23T17:09:51.283625",
     "status": "completed"
    },
    "tags": []
   },
   "source": [
    "Since the argument t can be any tensor, we pass -1 as the second argument to the reshape() function. In TensorFlow, the -1 tells the reshape() function to figure out what the value should be based on the number of elements contained within the tensor. Remember, the shape must equal the product of the shape's component values. This is how TensorFlow can figure out what the value should be, given a 1 as the first argument.\n",
    "\n",
    "Since our tensor t has 12 elements, the reshape() function is able to figure out that a 12 is required for the length of the second axis.\n",
    "\n",
    "After squeezing, the first axis (axis-0) is removed, and we obtain our desired result, a 1d-array of length 12.\n",
    "\n",
    "Here's an example of this in action:"
   ]
  },
  {
   "cell_type": "code",
   "execution_count": 33,
   "metadata": {
    "execution": {
     "iopub.execute_input": "2020-09-23T17:09:51.442909Z",
     "iopub.status.busy": "2020-09-23T17:09:51.442271Z",
     "iopub.status.idle": "2020-09-23T17:09:51.455625Z",
     "shell.execute_reply": "2020-09-23T17:09:51.455124Z"
    },
    "id": "l77_ZqottKim",
    "outputId": "4ab317b0-ed38-4549-d475-bada37b579b3",
    "papermill": {
     "duration": 0.06853,
     "end_time": "2020-09-23T17:09:51.455734",
     "exception": false,
     "start_time": "2020-09-23T17:09:51.387204",
     "status": "completed"
    },
    "tags": []
   },
   "outputs": [
    {
     "data": {
      "text/plain": [
       "<tf.Tensor: shape=(4, 3), dtype=float32, numpy=\n",
       "array([[1., 1., 1.],\n",
       "       [1., 1., 1.],\n",
       "       [1., 1., 1.],\n",
       "       [1., 1., 1.]], dtype=float32)>"
      ]
     },
     "execution_count": 33,
     "metadata": {},
     "output_type": "execute_result"
    }
   ],
   "source": [
    "t = tf.ones([4, 3])\n",
    "t"
   ]
  },
  {
   "cell_type": "code",
   "execution_count": 34,
   "metadata": {
    "execution": {
     "iopub.execute_input": "2020-09-23T17:09:51.567750Z",
     "iopub.status.busy": "2020-09-23T17:09:51.566675Z",
     "iopub.status.idle": "2020-09-23T17:09:51.570488Z",
     "shell.execute_reply": "2020-09-23T17:09:51.571002Z"
    },
    "id": "TLRudZRvtNir",
    "outputId": "6321aeaf-9ffa-4714-d728-552874442415",
    "papermill": {
     "duration": 0.062766,
     "end_time": "2020-09-23T17:09:51.571150",
     "exception": false,
     "start_time": "2020-09-23T17:09:51.508384",
     "status": "completed"
    },
    "tags": []
   },
   "outputs": [
    {
     "data": {
      "text/plain": [
       "<tf.Tensor: shape=(12,), dtype=float32, numpy=array([1., 1., 1., 1., 1., 1., 1., 1., 1., 1., 1., 1.], dtype=float32)>"
      ]
     },
     "execution_count": 34,
     "metadata": {},
     "output_type": "execute_result"
    }
   ],
   "source": [
    "flatten(t)"
   ]
  },
  {
   "cell_type": "markdown",
   "metadata": {
    "id": "DGelUFNhtUdE",
    "papermill": {
     "duration": 0.052474,
     "end_time": "2020-09-23T17:09:51.676586",
     "exception": false,
     "start_time": "2020-09-23T17:09:51.624112",
     "status": "completed"
    },
    "tags": []
   },
   "source": [
    "## Concatenating Tensors\n",
    "We combine tensors using the `concat()` function, and the resulting tensor will have a shape that depends on the shape of the two input tensors.\n",
    "\n",
    "Suppose we have two tensors:"
   ]
  },
  {
   "cell_type": "code",
   "execution_count": 35,
   "metadata": {
    "execution": {
     "iopub.execute_input": "2020-09-23T17:09:51.789688Z",
     "iopub.status.busy": "2020-09-23T17:09:51.788910Z",
     "iopub.status.idle": "2020-09-23T17:09:51.791976Z",
     "shell.execute_reply": "2020-09-23T17:09:51.791414Z"
    },
    "id": "xh149w9Xtb8B",
    "papermill": {
     "duration": 0.062421,
     "end_time": "2020-09-23T17:09:51.792085",
     "exception": false,
     "start_time": "2020-09-23T17:09:51.729664",
     "status": "completed"
    },
    "tags": []
   },
   "outputs": [],
   "source": [
    "t1 = tf.constant([\n",
    "    [1,2],\n",
    "    [3,4]\n",
    "])\n",
    "\n",
    "t2 = tf.constant([\n",
    "    [5,6],\n",
    "    [7,8]\n",
    "])"
   ]
  },
  {
   "cell_type": "markdown",
   "metadata": {
    "id": "GmoMicRPthkY",
    "papermill": {
     "duration": 0.057184,
     "end_time": "2020-09-23T17:09:51.902231",
     "exception": false,
     "start_time": "2020-09-23T17:09:51.845047",
     "status": "completed"
    },
    "tags": []
   },
   "source": [
    "We can combine t1 and t2 row-wise (axis-0) in the following way:"
   ]
  },
  {
   "cell_type": "code",
   "execution_count": 36,
   "metadata": {
    "execution": {
     "iopub.execute_input": "2020-09-23T17:09:52.014619Z",
     "iopub.status.busy": "2020-09-23T17:09:52.013953Z",
     "iopub.status.idle": "2020-09-23T17:09:52.026375Z",
     "shell.execute_reply": "2020-09-23T17:09:52.025706Z"
    },
    "id": "vdk3MiUktkY7",
    "outputId": "f0da6699-acfb-4d62-e68e-5a42c908709b",
    "papermill": {
     "duration": 0.070697,
     "end_time": "2020-09-23T17:09:52.026491",
     "exception": false,
     "start_time": "2020-09-23T17:09:51.955794",
     "status": "completed"
    },
    "tags": []
   },
   "outputs": [
    {
     "data": {
      "text/plain": [
       "<tf.Tensor: shape=(4, 2), dtype=int32, numpy=\n",
       "array([[1, 2],\n",
       "       [3, 4],\n",
       "       [5, 6],\n",
       "       [7, 8]], dtype=int32)>"
      ]
     },
     "execution_count": 36,
     "metadata": {},
     "output_type": "execute_result"
    }
   ],
   "source": [
    "tf.concat((t1, t2), axis = 0)  # concat() helps you to concatenate two tensors according to the given axis"
   ]
  },
  {
   "cell_type": "markdown",
   "metadata": {
    "id": "oRGRXkvQtmuf",
    "papermill": {
     "duration": 0.053053,
     "end_time": "2020-09-23T17:09:52.133277",
     "exception": false,
     "start_time": "2020-09-23T17:09:52.080224",
     "status": "completed"
    },
    "tags": []
   },
   "source": [
    "We can combine them column-wise (axis-1) like this:"
   ]
  },
  {
   "cell_type": "code",
   "execution_count": 37,
   "metadata": {
    "execution": {
     "iopub.execute_input": "2020-09-23T17:09:52.247736Z",
     "iopub.status.busy": "2020-09-23T17:09:52.246737Z",
     "iopub.status.idle": "2020-09-23T17:09:52.250557Z",
     "shell.execute_reply": "2020-09-23T17:09:52.251082Z"
    },
    "id": "uUs5bMGOtpID",
    "outputId": "2366ecdd-9435-471b-c5ed-2a9e57e5510d",
    "papermill": {
     "duration": 0.064175,
     "end_time": "2020-09-23T17:09:52.251239",
     "exception": false,
     "start_time": "2020-09-23T17:09:52.187064",
     "status": "completed"
    },
    "tags": []
   },
   "outputs": [
    {
     "data": {
      "text/plain": [
       "<tf.Tensor: shape=(2, 4), dtype=int32, numpy=\n",
       "array([[1, 2, 5, 6],\n",
       "       [3, 4, 7, 8]], dtype=int32)>"
      ]
     },
     "execution_count": 37,
     "metadata": {},
     "output_type": "execute_result"
    }
   ],
   "source": [
    "tf.concat((t1, t2), axis = 1)"
   ]
  },
  {
   "cell_type": "markdown",
   "metadata": {
    "id": "HRUWHLgCts20",
    "papermill": {
     "duration": 0.054817,
     "end_time": "2020-09-23T17:09:52.366408",
     "exception": false,
     "start_time": "2020-09-23T17:09:52.311591",
     "status": "completed"
    },
    "tags": []
   },
   "source": [
    "When we concatenate tensors, we increase the number of elements contained within the resulting tensor. This causes the component values within the shape (lengths of the axes) to adjust to account for the additional elements."
   ]
  },
  {
   "cell_type": "code",
   "execution_count": 38,
   "metadata": {
    "execution": {
     "iopub.execute_input": "2020-09-23T17:09:52.477896Z",
     "iopub.status.busy": "2020-09-23T17:09:52.476907Z",
     "iopub.status.idle": "2020-09-23T17:09:52.482717Z",
     "shell.execute_reply": "2020-09-23T17:09:52.483282Z"
    },
    "id": "U6uPgjPatvz6",
    "outputId": "8d29ea09-d054-4339-a49e-f08a78a1fd06",
    "papermill": {
     "duration": 0.063252,
     "end_time": "2020-09-23T17:09:52.483421",
     "exception": false,
     "start_time": "2020-09-23T17:09:52.420169",
     "status": "completed"
    },
    "tags": []
   },
   "outputs": [
    {
     "data": {
      "text/plain": [
       "TensorShape([4, 2])"
      ]
     },
     "execution_count": 38,
     "metadata": {},
     "output_type": "execute_result"
    }
   ],
   "source": [
    "tf.concat((t1, t2), axis = 0).shape"
   ]
  },
  {
   "cell_type": "code",
   "execution_count": 39,
   "metadata": {
    "execution": {
     "iopub.execute_input": "2020-09-23T17:09:52.596534Z",
     "iopub.status.busy": "2020-09-23T17:09:52.595543Z",
     "iopub.status.idle": "2020-09-23T17:09:52.601421Z",
     "shell.execute_reply": "2020-09-23T17:09:52.601931Z"
    },
    "id": "16P6eplXtx5G",
    "outputId": "e7d8bd15-55e2-4d96-a3c8-d1326e8f8e11",
    "papermill": {
     "duration": 0.064402,
     "end_time": "2020-09-23T17:09:52.602078",
     "exception": false,
     "start_time": "2020-09-23T17:09:52.537676",
     "status": "completed"
    },
    "tags": []
   },
   "outputs": [
    {
     "data": {
      "text/plain": [
       "TensorShape([2, 4])"
      ]
     },
     "execution_count": 39,
     "metadata": {},
     "output_type": "execute_result"
    }
   ],
   "source": [
    "tf.concat((t1, t2), axis = 1).shape"
   ]
  },
  {
   "cell_type": "markdown",
   "metadata": {
    "id": "Z42XLIvSt48P",
    "papermill": {
     "duration": 0.054726,
     "end_time": "2020-09-23T17:09:52.711509",
     "exception": false,
     "start_time": "2020-09-23T17:09:52.656783",
     "status": "completed"
    },
    "tags": []
   },
   "source": [
    "# Conclusion About Reshaping Tensors\n",
    "We should now have a good understanding of what it means to reshape a tensor. Any time we change a tensor's shape, we are said to be reshaping the tensor."
   ]
  },
  {
   "cell_type": "markdown",
   "metadata": {
    "id": "xZRIIp3Y5T4f",
    "papermill": {
     "duration": 0.054488,
     "end_time": "2020-09-23T17:09:52.823247",
     "exception": false,
     "start_time": "2020-09-23T17:09:52.768759",
     "status": "completed"
    },
    "tags": []
   },
   "source": [
    "Reference: Deeplizard"
   ]
  }
 ],
 "metadata": {
  "kernelspec": {
   "display_name": "Python 3 (ipykernel)",
   "language": "python",
   "name": "python3"
  },
  "language_info": {
   "codemirror_mode": {
    "name": "ipython",
    "version": 3
   },
   "file_extension": ".py",
   "mimetype": "text/x-python",
   "name": "python",
   "nbconvert_exporter": "python",
   "pygments_lexer": "ipython3",
   "version": "3.9.13"
  },
  "papermill": {
   "duration": 18.159819,
   "end_time": "2020-09-23T17:09:52.989947",
   "environment_variables": {},
   "exception": null,
   "input_path": "__notebook__.ipynb",
   "output_path": "__notebook__.ipynb",
   "parameters": {},
   "start_time": "2020-09-23T17:09:34.830128",
   "version": "2.1.0"
  }
 },
 "nbformat": 4,
 "nbformat_minor": 4
}
