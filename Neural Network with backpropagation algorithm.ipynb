{
 "cells": [
  {
   "cell_type": "code",
   "execution_count": 3,
   "id": "6a9157d7",
   "metadata": {},
   "outputs": [
    {
     "name": "stdout",
     "output_type": "stream",
     "text": [
      "Accuracy: 1.0\n"
     ]
    }
   ],
   "source": [
    "import numpy as np\n",
    "from sklearn.datasets import load_iris\n",
    "from sklearn.model_selection import train_test_split\n",
    "from sklearn.preprocessing import StandardScaler\n",
    "\n",
    "# Define the sigmoid function and its derivative\n",
    "def sigmoid(x):\n",
    "    return 1 / (1 + np.exp(-x))\n",
    "\n",
    "def sigmoid_derivative(x):\n",
    "    return x * (1 - x)\n",
    "\n",
    "# Define the neural network class\n",
    "class NeuralNetwork:\n",
    "    def __init__(self, input_size, hidden_size, output_size):\n",
    "        self.input_size = input_size\n",
    "        self.hidden_size = hidden_size\n",
    "        self.output_size = output_size\n",
    "        \n",
    "        # Initialize the weights randomly\n",
    "        self.weights1 = np.random.randn(input_size, hidden_size)\n",
    "        self.weights2 = np.random.randn(hidden_size, output_size)\n",
    "        \n",
    "        # Initialize the biases to zero\n",
    "        self.bias1 = np.zeros((1, hidden_size))\n",
    "        self.bias2 = np.zeros((1, output_size))\n",
    "        \n",
    "    def forward(self, X):\n",
    "        # Propagate inputs through the network\n",
    "        self.hidden = sigmoid(np.dot(X, self.weights1) + self.bias1)\n",
    "        self.output = sigmoid(np.dot(self.hidden, self.weights2) + self.bias2)\n",
    "        \n",
    "    def backward(self, X, y, learning_rate):\n",
    "        # Calculate the error and update the weights and biases\n",
    "        error = y - self.output\n",
    "        d_output = error * sigmoid_derivative(self.output)\n",
    "        d_hidden = np.dot(d_output, self.weights2.T) * sigmoid_derivative(self.hidden)\n",
    "        self.weights2 += learning_rate * np.dot(self.hidden.T, d_output)\n",
    "        self.weights1 += learning_rate * np.dot(X.T, d_hidden)\n",
    "        self.bias2 += learning_rate * np.sum(d_output, axis=0, keepdims=True)\n",
    "        self.bias1 += learning_rate * np.sum(d_hidden, axis=0, keepdims=True)\n",
    "        \n",
    "    def train(self, X, y, learning_rate, epochs):\n",
    "        for i in range(epochs):\n",
    "            self.forward(X)\n",
    "            self.backward(X, y, learning_rate)\n",
    "            \n",
    "    def predict(self, X):\n",
    "        # Predict the class labels for the inputs\n",
    "        self.forward(X)\n",
    "        return np.round(self.output)\n",
    "        \n",
    "\n",
    "# Load the iris dataset and split into training and testing sets\n",
    "X, y = load_iris(return_X_y=True)\n",
    "X_train, X_test, y_train, y_test = train_test_split(X, y, test_size=0.2, random_state=42)\n",
    "\n",
    "# Scale the data\n",
    "scaler = StandardScaler()\n",
    "X_train = scaler.fit_transform(X_train)\n",
    "X_test = scaler.transform(X_test)\n",
    "\n",
    "# Initialize the neural network and train it\n",
    "nn = NeuralNetwork(input_size=X_train.shape[1], hidden_size=5, output_size=3)\n",
    "nn.train(X_train, np.eye(3)[y_train], learning_rate=0.1, epochs=1000)\n",
    "\n",
    "# Evaluate the performance on the test set\n",
    "y_pred = nn.predict(X_test)\n",
    "accuracy = np.mean(y_pred == np.eye(3)[y_test])\n",
    "print(\"Accuracy:\", accuracy)\n"
   ]
  },
  {
   "cell_type": "code",
   "execution_count": 2,
   "id": "a1781e3e",
   "metadata": {},
   "outputs": [
    {
     "ename": "SyntaxError",
     "evalue": "positional argument follows keyword argument (3170074354.py, line 15)",
     "output_type": "error",
     "traceback": [
      "\u001b[1;36m  File \u001b[1;32m\"C:\\Users\\SHANMUKH\\AppData\\Local\\Temp\\ipykernel_35028\\3170074354.py\"\u001b[1;36m, line \u001b[1;32m15\u001b[0m\n\u001b[1;33m    nn = NeuralNetwork(input_size=X_train.shape[1], hidden\u001b[0m\n\u001b[1;37m                                                          ^\u001b[0m\n\u001b[1;31mSyntaxError\u001b[0m\u001b[1;31m:\u001b[0m positional argument follows keyword argument\n"
     ]
    }
   ],
   "source": [
    "from sklearn.datasets import load_iris\n",
    "from sklearn.model_selection import train_test_split\n",
    "from sklearn.preprocessing import StandardScaler\n",
    "\n",
    "# Load the iris dataset and split into training and testing sets\n",
    "X, y = load_iris(return_X_y=True)\n",
    "X_train, X_test, y_train, y_test = train_test_split(X, y, test_size=0.2, random_state=42)\n",
    "\n",
    "# Scale the data\n",
    "scaler = StandardScaler()\n",
    "X_train = scaler.fit_transform(X_train)\n",
    "X_test = scaler.transform(X_test)\n",
    "\n",
    "# Initialize the neural network and train it\n",
    "nn = NeuralNetwork(input_size=X_train.shape[1], hidden\n"
   ]
  },
  {
   "cell_type": "code",
   "execution_count": null,
   "id": "4980b713",
   "metadata": {},
   "outputs": [],
   "source": []
  }
 ],
 "metadata": {
  "kernelspec": {
   "display_name": "Python 3 (ipykernel)",
   "language": "python",
   "name": "python3"
  },
  "language_info": {
   "codemirror_mode": {
    "name": "ipython",
    "version": 3
   },
   "file_extension": ".py",
   "mimetype": "text/x-python",
   "name": "python",
   "nbconvert_exporter": "python",
   "pygments_lexer": "ipython3",
   "version": "3.9.13"
  }
 },
 "nbformat": 4,
 "nbformat_minor": 5
}
