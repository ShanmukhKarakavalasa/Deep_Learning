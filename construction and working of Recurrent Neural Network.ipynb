{
 "cells": [
  {
   "cell_type": "code",
   "execution_count": 1,
   "id": "ebc57ce1",
   "metadata": {},
   "outputs": [
    {
     "name": "stdout",
     "output_type": "stream",
     "text": [
      "Epoch 1/10\n",
      "32/32 [==============================] - 3s 26ms/step - loss: 0.7858 - accuracy: 0.4980 - val_loss: 0.7397 - val_accuracy: 0.4800\n",
      "Epoch 2/10\n",
      "32/32 [==============================] - 0s 7ms/step - loss: 0.6896 - accuracy: 0.5690 - val_loss: 0.7178 - val_accuracy: 0.5200\n",
      "Epoch 3/10\n",
      "32/32 [==============================] - 0s 8ms/step - loss: 0.6623 - accuracy: 0.6050 - val_loss: 0.7245 - val_accuracy: 0.5300\n",
      "Epoch 4/10\n",
      "32/32 [==============================] - 0s 7ms/step - loss: 0.6421 - accuracy: 0.6370 - val_loss: 0.7176 - val_accuracy: 0.5300\n",
      "Epoch 5/10\n",
      "32/32 [==============================] - 0s 7ms/step - loss: 0.6236 - accuracy: 0.6530 - val_loss: 0.7189 - val_accuracy: 0.5000\n",
      "Epoch 6/10\n",
      "32/32 [==============================] - 0s 8ms/step - loss: 0.6048 - accuracy: 0.6690 - val_loss: 0.7348 - val_accuracy: 0.5200\n",
      "Epoch 7/10\n",
      "32/32 [==============================] - 0s 7ms/step - loss: 0.5840 - accuracy: 0.6920 - val_loss: 0.7354 - val_accuracy: 0.5400\n",
      "Epoch 8/10\n",
      "32/32 [==============================] - 0s 8ms/step - loss: 0.5655 - accuracy: 0.7300 - val_loss: 0.7432 - val_accuracy: 0.5200\n",
      "Epoch 9/10\n",
      "32/32 [==============================] - 0s 8ms/step - loss: 0.5444 - accuracy: 0.7390 - val_loss: 0.7430 - val_accuracy: 0.5400\n",
      "Epoch 10/10\n",
      "32/32 [==============================] - 0s 8ms/step - loss: 0.5154 - accuracy: 0.7680 - val_loss: 0.7786 - val_accuracy: 0.5300\n"
     ]
    },
    {
     "data": {
      "text/plain": [
       "<keras.callbacks.History at 0x1f25be75ca0>"
      ]
     },
     "execution_count": 1,
     "metadata": {},
     "output_type": "execute_result"
    }
   ],
   "source": [
    "import tensorflow as tf\n",
    "from tensorflow.keras.layers import Input, SimpleRNN, Dense\n",
    "from tensorflow.keras.models import Model\n",
    "\n",
    "# Define the input shape\n",
    "input_shape = (None, 10)  # sequence length is variable\n",
    "\n",
    "# Define the input layer\n",
    "inputs = Input(shape=input_shape)\n",
    "\n",
    "# Define the RNN layer\n",
    "rnn = SimpleRNN(units=64)(inputs)\n",
    "\n",
    "# Define the output layer\n",
    "outputs = Dense(units=2, activation=\"softmax\")(rnn)\n",
    "\n",
    "# Define the model\n",
    "model = Model(inputs=inputs, outputs=outputs)\n",
    "\n",
    "# Compile the model\n",
    "model.compile(loss=\"categorical_crossentropy\",\n",
    "              optimizer=\"adam\",\n",
    "              metrics=[\"accuracy\"])\n",
    "\n",
    "# Generate some random data for training and testing\n",
    "X_train = tf.random.normal((1000, 10, 10))\n",
    "y_train = tf.one_hot(tf.random.uniform((1000,), maxval=2, dtype=tf.int32), depth=2)\n",
    "\n",
    "X_test = tf.random.normal((100, 10, 10))\n",
    "y_test = tf.one_hot(tf.random.uniform((100,), maxval=2, dtype=tf.int32), depth=2)\n",
    "\n",
    "# Train the model\n",
    "model.fit(X_train, y_train, batch_size=32, epochs=10, validation_data=(X_test, y_test))\n"
   ]
  },
  {
   "cell_type": "code",
   "execution_count": null,
   "id": "14330396",
   "metadata": {},
   "outputs": [],
   "source": []
  }
 ],
 "metadata": {
  "kernelspec": {
   "display_name": "Python 3 (ipykernel)",
   "language": "python",
   "name": "python3"
  },
  "language_info": {
   "codemirror_mode": {
    "name": "ipython",
    "version": 3
   },
   "file_extension": ".py",
   "mimetype": "text/x-python",
   "name": "python",
   "nbconvert_exporter": "python",
   "pygments_lexer": "ipython3",
   "version": "3.9.13"
  }
 },
 "nbformat": 4,
 "nbformat_minor": 5
}
