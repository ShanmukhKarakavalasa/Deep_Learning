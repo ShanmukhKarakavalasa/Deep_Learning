{
 "cells": [
  {
   "cell_type": "code",
   "execution_count": 11,
   "id": "f55cfece",
   "metadata": {},
   "outputs": [
    {
     "ename": "AttributeError",
     "evalue": "module 'darknet' has no attribute 'load_network'",
     "output_type": "error",
     "traceback": [
      "\u001b[1;31m---------------------------------------------------------------------------\u001b[0m",
      "\u001b[1;31mAttributeError\u001b[0m                            Traceback (most recent call last)",
      "\u001b[1;32m~\\AppData\\Local\\Temp\\ipykernel_10868\\1054610693.py\u001b[0m in \u001b[0;36m<module>\u001b[1;34m\u001b[0m\n\u001b[0;32m      6\u001b[0m \u001b[0mmodel_config\u001b[0m \u001b[1;33m=\u001b[0m \u001b[1;34m\"cfg/yolov4.cfg\"\u001b[0m\u001b[1;33m\u001b[0m\u001b[1;33m\u001b[0m\u001b[0m\n\u001b[0;32m      7\u001b[0m \u001b[0mmodel_weights\u001b[0m \u001b[1;33m=\u001b[0m \u001b[1;34m\"yolov4.weights\"\u001b[0m\u001b[1;33m\u001b[0m\u001b[1;33m\u001b[0m\u001b[0m\n\u001b[1;32m----> 8\u001b[1;33m \u001b[0mnet\u001b[0m \u001b[1;33m=\u001b[0m \u001b[0mdarknet\u001b[0m\u001b[1;33m.\u001b[0m\u001b[0mload_network\u001b[0m\u001b[1;33m(\u001b[0m\u001b[0mmodel_config\u001b[0m\u001b[1;33m,\u001b[0m \u001b[0mmodel_weights\u001b[0m\u001b[1;33m,\u001b[0m \u001b[1;36m0\u001b[0m\u001b[1;33m)\u001b[0m\u001b[1;33m\u001b[0m\u001b[1;33m\u001b[0m\u001b[0m\n\u001b[0m\u001b[0;32m      9\u001b[0m \u001b[1;33m\u001b[0m\u001b[0m\n\u001b[0;32m     10\u001b[0m \u001b[1;33m\u001b[0m\u001b[0m\n",
      "\u001b[1;31mAttributeError\u001b[0m: module 'darknet' has no attribute 'load_network'"
     ]
    }
   ],
   "source": [
    "import cv2\n",
    "import numpy as np\n",
    "import darknet\n",
    "\n",
    "# Load the YOLO model\n",
    "model_config = \"cfg/yolov4.cfg\"\n",
    "model_weights = \"yolov4.weights\"\n",
    "net = darknet.load_network(model_config, model_weights, 0)\n",
    "\n",
    "\n",
    "# Load the class names\n",
    "class_names = []\n",
    "with open(\"data/coco.names\", \"r\") as f:\n",
    "    class_names = [cname.strip() for cname in f.readlines()]\n",
    "\n",
    "# Load the input image\n",
    "image = cv2.imread(r\"C:\\Users\\SHANMUKH\\NOTEBOOK\\Deep Learning\\sample_image_alexnet.jpeg\")\n",
    "\n",
    "# Resize the image to the input size of the YOLO model\n",
    "input_size = (darknet.network_width(net), darknet.network_height(net))\n",
    "resized_image = cv2.resize(image, input_size)\n",
    "\n",
    "# Convert the image to the format expected by the YOLO model\n",
    "darknet_image = darknet.make_image(input_size[0], input_size[1], 3)\n",
    "darknet.copy_image_from_bytes(darknet_image, resized_image.tobytes())\n",
    "\n",
    "# Run the YOLO model on the input image\n",
    "detections = darknet.detect_image(net, class_names, darknet_image)\n",
    "\n",
    "# Print the detections\n",
    "for detection in detections:\n",
    "    class_name = detection[0]\n",
    "    confidence = detection[1]\n",
    "    bbox = detection[2]\n",
    "    x, y, w, h = bbox\n",
    "    left = int(x - w/2)\n",
    "    top = int(y - h/2)\n",
    "    right = int(x + w/2)\n",
    "    bottom = int(y + h/2)\n",
    "    print(\"Detected object:\", class_name)\n",
    "    print(\"Confidence:\", confidence)\n",
    "    print(\"Bounding box:\", (left, top, right, bottom))\n",
    "\n",
    "# Release the image and YOLO model\n",
    "cv2.destroyAllWindows()\n",
    "darknet.free_image(darknet_image)\n"
   ]
  },
  {
   "cell_type": "code",
   "execution_count": null,
   "id": "3dba0c4c",
   "metadata": {},
   "outputs": [],
   "source": []
  }
 ],
 "metadata": {
  "kernelspec": {
   "display_name": "Python 3 (ipykernel)",
   "language": "python",
   "name": "python3"
  },
  "language_info": {
   "codemirror_mode": {
    "name": "ipython",
    "version": 3
   },
   "file_extension": ".py",
   "mimetype": "text/x-python",
   "name": "python",
   "nbconvert_exporter": "python",
   "pygments_lexer": "ipython3",
   "version": "3.9.13"
  }
 },
 "nbformat": 4,
 "nbformat_minor": 5
}
